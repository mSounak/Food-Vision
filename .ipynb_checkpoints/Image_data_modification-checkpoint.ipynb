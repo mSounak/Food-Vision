{
 "cells": [
  {
   "cell_type": "markdown",
   "metadata": {},
   "source": [
    "## Sorting our images from Food101 dataset"
   ]
  },
  {
   "cell_type": "code",
   "execution_count": 2,
   "metadata": {},
   "outputs": [
    {
     "name": "stdout",
     "output_type": "stream",
     "text": [
      "apple_pie\t    eggs_benedict\t     onion_rings\r\n",
      "baby_back_ribs\t    escargots\t\t     oysters\r\n",
      "baklava\t\t    falafel\t\t     pad_thai\r\n",
      "beef_carpaccio\t    filet_mignon\t     paella\r\n",
      "beef_tartare\t    fish_and_chips\t     pancakes\r\n",
      "beet_salad\t    foie_gras\t\t     panna_cotta\r\n",
      "beignets\t    french_fries\t     peking_duck\r\n",
      "bibimbap\t    french_onion_soup\t     pho\r\n",
      "bread_pudding\t    french_toast\t     pizza\r\n",
      "breakfast_burrito   fried_calamari\t     pork_chop\r\n",
      "bruschetta\t    fried_rice\t\t     poutine\r\n",
      "caesar_salad\t    frozen_yogurt\t     prime_rib\r\n",
      "cannoli\t\t    garlic_bread\t     pulled_pork_sandwich\r\n",
      "caprese_salad\t    gnocchi\t\t     ramen\r\n",
      "carrot_cake\t    greek_salad\t\t     ravioli\r\n",
      "ceviche\t\t    grilled_cheese_sandwich  red_velvet_cake\r\n",
      "cheesecake\t    grilled_salmon\t     risotto\r\n",
      "cheese_plate\t    guacamole\t\t     samosa\r\n",
      "chicken_curry\t    gyoza\t\t     sashimi\r\n",
      "chicken_quesadilla  hamburger\t\t     scallops\r\n",
      "chicken_wings\t    hot_and_sour_soup\t     seaweed_salad\r\n",
      "chocolate_cake\t    hot_dog\t\t     shrimp_and_grits\r\n",
      "chocolate_mousse    huevos_rancheros\t     spaghetti_bolognese\r\n",
      "churros\t\t    hummus\t\t     spaghetti_carbonara\r\n",
      "clam_chowder\t    ice_cream\t\t     spring_rolls\r\n",
      "club_sandwich\t    lasagna\t\t     steak\r\n",
      "crab_cakes\t    lobster_bisque\t     strawberry_shortcake\r\n",
      "creme_brulee\t    lobster_roll_sandwich    sushi\r\n",
      "croque_madame\t    macaroni_and_cheese      tacos\r\n",
      "cup_cakes\t    macarons\t\t     takoyaki\r\n",
      "deviled_eggs\t    miso_soup\t\t     tiramisu\r\n",
      "donuts\t\t    mussels\t\t     tuna_tartare\r\n",
      "dumplings\t    nachos\t\t     waffles\r\n",
      "edamame\t\t    omelette\r\n"
     ]
    }
   ],
   "source": [
    "!ls ~/Documents/FoodVision/dataset/images"
   ]
  },
  {
   "cell_type": "code",
   "execution_count": 2,
   "metadata": {},
   "outputs": [],
   "source": [
    "import json\n",
    "from tqdm.notebook import tqdm"
   ]
  },
  {
   "cell_type": "markdown",
   "metadata": {},
   "source": [
    "## Get Labels (in JSON form)"
   ]
  },
  {
   "cell_type": "code",
   "execution_count": 5,
   "metadata": {},
   "outputs": [
    {
     "name": "stdout",
     "output_type": "stream",
     "text": [
      "classes.txt  labels.txt  test.json  test.txt  train.json  train.txt\r\n"
     ]
    }
   ],
   "source": [
    "!ls ~/Documents/FoodVision/dataset/meta"
   ]
  },
  {
   "cell_type": "code",
   "execution_count": 6,
   "metadata": {},
   "outputs": [
    {
     "ename": "FileNotFoundError",
     "evalue": "[Errno 2] No such file or directory: '~/Documents/FoodVision/dataset/meta/train.json'",
     "output_type": "error",
     "traceback": [
      "\u001b[0;31m---------------------------------------------------------------------------\u001b[0m",
      "\u001b[0;31mFileNotFoundError\u001b[0m                         Traceback (most recent call last)",
      "\u001b[0;32m<ipython-input-6-8582eb639c58>\u001b[0m in \u001b[0;36m<module>\u001b[0;34m\u001b[0m\n\u001b[1;32m      7\u001b[0m         \u001b[0;32mreturn\u001b[0m \u001b[0mjson\u001b[0m\u001b[0;34m.\u001b[0m\u001b[0mload\u001b[0m\u001b[0;34m(\u001b[0m\u001b[0mf\u001b[0m\u001b[0;34m)\u001b[0m\u001b[0;34m\u001b[0m\u001b[0;34m\u001b[0m\u001b[0m\n\u001b[1;32m      8\u001b[0m \u001b[0;34m\u001b[0m\u001b[0m\n\u001b[0;32m----> 9\u001b[0;31m \u001b[0mtrain_labels\u001b[0m \u001b[0;34m=\u001b[0m \u001b[0mget_labels\u001b[0m\u001b[0;34m(\u001b[0m\u001b[0;34m'~/Documents/FoodVision/dataset/meta/train.json'\u001b[0m\u001b[0;34m)\u001b[0m\u001b[0;34m\u001b[0m\u001b[0;34m\u001b[0m\u001b[0m\n\u001b[0m\u001b[1;32m     10\u001b[0m \u001b[0mtest_labels\u001b[0m \u001b[0;34m=\u001b[0m \u001b[0mget_labels\u001b[0m\u001b[0;34m(\u001b[0m\u001b[0;34m'~/Documents/FoodVision/dataset/meta/test.json'\u001b[0m\u001b[0;34m)\u001b[0m\u001b[0;34m\u001b[0m\u001b[0;34m\u001b[0m\u001b[0m\n",
      "\u001b[0;32m<ipython-input-6-8582eb639c58>\u001b[0m in \u001b[0;36mget_labels\u001b[0;34m(label_path)\u001b[0m\n\u001b[1;32m      4\u001b[0m     \u001b[0mAccepts\u001b[0m \u001b[0ma\u001b[0m \u001b[0mlabel\u001b[0m \u001b[0mpath\u001b[0m \u001b[0;34m(\u001b[0m\u001b[0;32min\u001b[0m \u001b[0mthe\u001b[0m  \u001b[0mform\u001b[0m \u001b[0mof\u001b[0m \u001b[0ma\u001b[0m \u001b[0mJSON\u001b[0m\u001b[0;34m)\u001b[0m \u001b[0;32mand\u001b[0m \u001b[0mreturns\u001b[0m \u001b[0mthe\u001b[0m  \u001b[0mfile\u001b[0m \u001b[0;32mas\u001b[0m \u001b[0ma\u001b[0m \u001b[0mPython\u001b[0m \u001b[0mObject\u001b[0m\u001b[0;34m.\u001b[0m\u001b[0;34m\u001b[0m\u001b[0;34m\u001b[0m\u001b[0m\n\u001b[1;32m      5\u001b[0m     '''\n\u001b[0;32m----> 6\u001b[0;31m     \u001b[0;32mwith\u001b[0m \u001b[0mopen\u001b[0m\u001b[0;34m(\u001b[0m\u001b[0mlabel_path\u001b[0m\u001b[0;34m)\u001b[0m \u001b[0;32mas\u001b[0m \u001b[0mf\u001b[0m\u001b[0;34m:\u001b[0m\u001b[0;34m\u001b[0m\u001b[0;34m\u001b[0m\u001b[0m\n\u001b[0m\u001b[1;32m      7\u001b[0m         \u001b[0;32mreturn\u001b[0m \u001b[0mjson\u001b[0m\u001b[0;34m.\u001b[0m\u001b[0mload\u001b[0m\u001b[0;34m(\u001b[0m\u001b[0mf\u001b[0m\u001b[0;34m)\u001b[0m\u001b[0;34m\u001b[0m\u001b[0;34m\u001b[0m\u001b[0m\n\u001b[1;32m      8\u001b[0m \u001b[0;34m\u001b[0m\u001b[0m\n",
      "\u001b[0;31mFileNotFoundError\u001b[0m: [Errno 2] No such file or directory: '~/Documents/FoodVision/dataset/meta/train.json'"
     ]
    }
   ],
   "source": [
    "# Get labels\n",
    "def get_labels(label_path):\n",
    "    '''\n",
    "    Accepts a label path (in the  form of a JSON) and returns the  file as a Python Object.\n",
    "    '''\n",
    "    with open(label_path) as f:\n",
    "        return json.load(f)\n",
    "    \n",
    "train_labels = get_labels('~/Documents/FoodVision/dataset/meta/train.json')\n",
    "test_labels = get_labels('~/Documents/FoodVision/dataset/meta/test.json')"
   ]
  },
  {
   "cell_type": "code",
   "execution_count": 7,
   "metadata": {},
   "outputs": [
    {
     "ename": "NameError",
     "evalue": "name 'train_labels' is not defined",
     "output_type": "error",
     "traceback": [
      "\u001b[0;31m---------------------------------------------------------------------------\u001b[0m",
      "\u001b[0;31mNameError\u001b[0m                                 Traceback (most recent call last)",
      "\u001b[0;32m<ipython-input-7-e01d52f22b61>\u001b[0m in \u001b[0;36m<module>\u001b[0;34m\u001b[0m\n\u001b[1;32m      1\u001b[0m \u001b[0;31m# Should be 750 set for training set and 250 for test set\u001b[0m\u001b[0;34m\u001b[0m\u001b[0;34m\u001b[0m\u001b[0;34m\u001b[0m\u001b[0m\n\u001b[0;32m----> 2\u001b[0;31m \u001b[0mprint\u001b[0m\u001b[0;34m(\u001b[0m\u001b[0;34mf\"Train datset: {len(train_labels['apple_pie'])}\"\u001b[0m\u001b[0;34m)\u001b[0m\u001b[0;34m\u001b[0m\u001b[0;34m\u001b[0m\u001b[0m\n\u001b[0m\u001b[1;32m      3\u001b[0m \u001b[0mprint\u001b[0m\u001b[0;34m(\u001b[0m\u001b[0;34mf\"Test datset: {len(test_labels['apple_pie'])}\"\u001b[0m\u001b[0;34m)\u001b[0m\u001b[0;34m\u001b[0m\u001b[0;34m\u001b[0m\u001b[0m\n",
      "\u001b[0;31mNameError\u001b[0m: name 'train_labels' is not defined"
     ]
    }
   ],
   "source": [
    "# Should be 750 set for training set and 250 for test set\n",
    "print(f\"Train datset: {len(train_labels['apple_pie'])}\")\n",
    "print(f\"Test datset: {len(test_labels['apple_pie'])}\")"
   ]
  },
  {
   "cell_type": "markdown",
   "metadata": {},
   "source": [
    "## Create target class folders and move images there"
   ]
  },
  {
   "cell_type": "code",
   "execution_count": null,
   "metadata": {},
   "outputs": [],
   "source": [
    "import shutil\n",
    "import os\n",
    "\n",
    "def copy_images(parent_folder, new_)"
   ]
  }
 ],
 "metadata": {
  "kernelspec": {
   "display_name": "tf-gpu",
   "language": "python",
   "name": "tf-gpu"
  },
  "language_info": {
   "codemirror_mode": {
    "name": "ipython",
    "version": 3
   },
   "file_extension": ".py",
   "mimetype": "text/x-python",
   "name": "python",
   "nbconvert_exporter": "python",
   "pygments_lexer": "ipython3",
   "version": "3.9.5"
  }
 },
 "nbformat": 4,
 "nbformat_minor": 4
}
